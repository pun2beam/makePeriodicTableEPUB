{
 "cells": [
  {
   "cell_type": "markdown",
   "metadata": {
    "id": "overview"
   },
   "source": [
    "# Periodic Table EPUB build (Colab)",
    "\n",
    "This notebook reproduces the full EPUB build pipeline described in [`spec.md`](../spec.md) using Google Colab's default Python runtime.",
    "\n",
    "**Usage notes**:",
    "\n",
    "- Open this notebook in Google Colab (File → Open notebook → GitHub).",
    "- (Optional) Connect your Google Drive if you want to persist the generated EPUB/cover files.",
    "- Run the cells from top to bottom; the pipeline will download the latest Wikipedia data, normalize it, build the SVG cover, rasterize it, and assemble the EPUB package inside `book/dist/`."
   ]
  },
  {
   "cell_type": "code",
   "execution_count": null,
   "metadata": {
    "id": "pip-install",
    "tags": [
     "parameters"
    ]
   },
   "outputs": [],
   "source": [
    "#@title Install Python dependencies\n",
    "!pip install --quiet -r requirements.txt"
   ]
  },
  {
   "cell_type": "markdown",
   "metadata": {
    "id": "env-notes"
   },
   "source": [
    "## Optional: Mount Google Drive",
    "\n",
    "Uncomment the cell below if you want the generated assets to be saved to Google Drive instead of the Colab ephemeral filesystem."
   ]
  },
  {
   "cell_type": "code",
   "execution_count": null,
   "metadata": {
    "id": "drive-mount"
   },
   "outputs": [],
   "source": [
    "# from google.colab import drive\n",
    "# drive.mount('/content/drive')\n",
    "# %cd /content/drive/MyDrive/path/to/your/workdir"
   ]
  },
  {
   "cell_type": "markdown",
   "metadata": {
    "id": "pipeline"
   },
   "source": [
    "## Build the EPUB",
    "\n",
    "The commands below follow the workflow defined in Section 4 of the specification. They can be rerun to refresh the data or rebuild the package after modifying templates or scripts."
   ]
  },
  {
   "cell_type": "code",
   "execution_count": null,
   "metadata": {
    "id": "run-pipeline"
   },
   "outputs": [],
   "source": [
    "#@title Run data fetch, normalization, and build scripts\n",
    "!python scripts/fetch_wiki.py --lang en --page \"Periodic table\"\n",
    "!python scripts/normalize.py\n",
    "!python scripts/build_cover_svg.py --in data/tables.json --out assets/gen/cover.svg\n",
    "!python scripts/license_attribution.py --out book/OEBPS/attribution.xhtml\n",
    "!python scripts/rasterize_cover.py --in assets/gen/cover.svg --out book/dist/cover_2560x1600.jpg --width 1600 --height 2560\n",
    "!python scripts/build_epub.py --cover book/dist/cover_2560x1600.jpg --out book/dist/PeriodicTable.en.epub\n"
   ]
  },
  {
   "cell_type": "markdown",
   "metadata": {
    "id": "inspect"
   },
   "source": [
    "## Inspect generated files",
    "\n",
    "Run the following cell to list the distribution folder and confirm that the EPUB and cover JPEG were produced successfully."
   ]
  },
  {
   "cell_type": "code",
   "execution_count": null,
   "metadata": {
    "id": "list-dist"
   },
   "outputs": [],
   "source": [
    "#@title Check build outputs\n",
    "!ls -lh book/dist"
   ]
  }
 ],
 "metadata": {
  "colab": {
   "name": "colab_build.ipynb",
   "provenance": []
  },
  "kernelspec": {
   "display_name": "Python 3",
   "language": "python",
   "name": "python3"
  },
  "language_info": {
   "name": "python"
  }
 },
 "nbformat": 4,
 "nbformat_minor": 5
}