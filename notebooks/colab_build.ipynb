{
  "cells": [
    {
      "cell_type": "markdown",
      "id": "e715adef",
      "metadata": {
        "id": "e715adef"
      },
      "source": [
        "[![Open In Colab](https://colab.research.google.com/assets/colab-badge.svg)](https://colab.research.google.com/github/pun2beam/makePeriodicTableEPUB/blob/main/notebooks/colab_build.ipynb)\n",
        "\n",
        "# Periodic Table EPUB build (Colab)\n",
        "This notebook reproduces the full EPUB build pipeline described in [`spec.md`](../spec.md) using Google Colab's default Python runtime.\n",
        "**Usage notes**:\n",
        "- Open this notebook in Google Colab (File → Open notebook → GitHub).\n",
        "- (Optional) Connect your Google Drive if you want to persist the generated EPUB/cover files.\n",
        "- Run the cells from top to bottom; the pipeline will download the latest Wikipedia data, normalize it, fetch per-element summaries, build the SVG cover, rasterize it, and assemble the EPUB package inside `book/dist/`.\n"
      ]
    },
    {
      "cell_type": "code",
      "execution_count": null,
      "id": "de0b8165",
      "metadata": {
        "id": "de0b8165",
        "tags": [
          "parameters"
        ]
      },
      "outputs": [],
      "source": [
        "#@title Install Python dependencies\n",
        "%cd /content/\n",
        "!git clone https://github.com/pun2beam/makePeriodicTableEPUB.git\n",
        "%cd /content/makePeriodicTableEPUB\n",
        "!pip install --quiet -r requirements.txt"
      ]
    },
    {
      "cell_type": "code",
      "source": [
        "#@title Install system fonts for Japanese text\n",
        "!apt-get update -y\n",
        "!apt-get install -y fonts-noto-cjk\n",
        "!fc-cache -fv\n"
      ],
      "metadata": {
        "id": "6E0qDnzAZUId"
      },
      "id": "6E0qDnzAZUId",
      "execution_count": null,
      "outputs": []
    },
    {
      "cell_type": "code",
      "source": [
        "%cd /content/makePeriodicTableEPUB\n",
        "!git pull"
      ],
      "metadata": {
        "id": "lyQ1nNVPqNpx"
      },
      "id": "lyQ1nNVPqNpx",
      "execution_count": null,
      "outputs": []
    },
    {
      "cell_type": "markdown",
      "id": "39314563",
      "metadata": {
        "id": "39314563"
      },
      "source": [
        "## Optional: Mount Google Drive\n",
        "Uncomment the cell below if you want the generated assets to be saved to Google Drive instead of the Colab ephemeral filesystem."
      ]
    },
    {
      "cell_type": "code",
      "execution_count": null,
      "id": "28a48dcc",
      "metadata": {
        "id": "28a48dcc"
      },
      "outputs": [],
      "source": [
        "# from google.colab import drive\n",
        "# drive.mount('/content/drive')\n",
        "# %cd /content/drive/MyDrive/path/to/your/workdir"
      ]
    },
    {
      "cell_type": "markdown",
      "id": "51a46bd9",
      "metadata": {
        "id": "51a46bd9"
      },
      "source": [
        "## Build the EPUB\n",
        "The commands below follow the workflow defined in Section 4 of the specification. They can be rerun to refresh the data or rebuild the package after modifying templates or scripts."
      ]
    },
    {
      "cell_type": "code",
      "source": [],
      "metadata": {
        "id": "WAKr7eeO80Q6"
      },
      "id": "WAKr7eeO80Q6",
      "execution_count": null,
      "outputs": []
    },
    {
      "cell_type": "code",
      "execution_count": null,
      "id": "6733a2de",
      "metadata": {
        "id": "6733a2de"
      },
      "outputs": [],
      "source": [
        "#@title Run data fetch, normalization, and build scripts\n",
        "# English Version\n",
        "!python scripts/fetch_wiki.py --lang en --page \"List of chemical elements\" --output-file list-of-chemical-elements-en-rest.json\n",
        "!python scripts/normalize.py --input data/raw/list-of-chemical-elements-en-rest.json\n",
        "!python scripts/fetch_wiki.py --lang en --page \"List of chemical elements\" --elements-from data/tables.json --elements-json data/elements.en.json\n",
        "!python scripts/build_cover_svg.py --in data/tables.json --out assets/gen/cover_en.svg\n",
        "!python scripts/license_attribution.py --out book/OEBPS/attribution.xhtml\n",
        "!python scripts/rasterize_cover.py --in assets/gen/cover_en.svg --out book/dist/cover_en_2560x1600.jpg --width 1600 --height 2560\n",
        "!python scripts/build_epub.py --cover book/dist/cover_en_2560x1600.jpg --out book/dist/PeriodicTable.en.epub --element-data data/elements.en.json\n",
        "\n",
        "# Japanese Version\n",
        "!python scripts/fetch_wiki.py --lang ja --page \"元素の一覧\" --output-file list-of-chemical-elements-ja-rest.json\n",
        "!python scripts/normalize.py --input data/raw/list-of-chemical-elements-ja-rest.json\n",
        "!python scripts/fetch_wiki.py --lang ja --page \"元素の一覧\" --elements-from data/tables.json --elements-json data/elements.ja.json\n",
        "!python scripts/build_cover_svg.py --in data/tables.json --out assets/gen/cover_ja.svg\n",
        "!python scripts/license_attribution.py --out book/OEBPS/attribution.xhtml\n",
        "!python scripts/rasterize_cover.py --in assets/gen/cover_ja.svg --out book/dist/cover_ja_2560x1600.jpg --width 1600 --height 2560\n",
        "!python scripts/build_epub.py --cover book/dist/cover_ja_2560x1600.jpg --out book/dist/PeriodicTable.ja.epub --element-data data/elements.ja.json\n"
      ]
    },
    {
      "cell_type": "markdown",
      "id": "e6e5dd14",
      "metadata": {
        "id": "e6e5dd14"
      },
      "source": [
        "## Inspect generated files\n",
        "Run the following cell to list the distribution folder and confirm that the EPUB and cover JPEG were produced successfully."
      ]
    },
    {
      "cell_type": "code",
      "execution_count": null,
      "id": "2509c2e8",
      "metadata": {
        "id": "2509c2e8"
      },
      "outputs": [],
      "source": [
        "#@title Check build outputs\n",
        "!ls -lh book/dist"
      ]
    },
    {
      "cell_type": "code",
      "source": [
        "# !rm -rf /content/makePeriodicTableEPUB/data\n",
        "# !rm -rf /content/makePeriodicTableEPUB/book/\n",
        "# !rm -rf /content/makePeriodicTableEPUB/makePeriodicTableEPUB/\n"
      ],
      "metadata": {
        "id": "LAYSUhT0kMoQ"
      },
      "id": "LAYSUhT0kMoQ",
      "execution_count": null,
      "outputs": []
    }
  ],
  "metadata": {
    "colab": {
      "name": "colab_build.ipynb",
      "provenance": []
    },
    "kernelspec": {
      "display_name": "Python 3",
      "language": "python",
      "name": "python3"
    },
    "language_info": {
      "name": "python"
    }
  },
  "nbformat": 4,
  "nbformat_minor": 5
}